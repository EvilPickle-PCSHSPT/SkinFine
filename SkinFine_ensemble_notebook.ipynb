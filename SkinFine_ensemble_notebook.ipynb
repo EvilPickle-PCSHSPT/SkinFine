{
  "nbformat": 4,
  "nbformat_minor": 0,
  "metadata": {
    "colab": {
      "name": "TensorSkin_ensemble_notebook.ipynb",
      "provenance": [],
      "collapsed_sections": [],
      "authorship_tag": "ABX9TyN67NZFTnHu4bBhXWVAsgnA",
      "include_colab_link": true
    },
    "kernelspec": {
      "name": "python3",
      "display_name": "Python 3"
    }
  },
  "cells": [
    {
      "cell_type": "markdown",
      "metadata": {
        "id": "view-in-github",
        "colab_type": "text"
      },
      "source": [
        "<a href=\"https://colab.research.google.com/github/filmerxyz/TensorSkin/blob/master/TensorSkin_ensemble_notebook.ipynb\" target=\"_parent\"><img src=\"https://colab.research.google.com/assets/colab-badge.svg\" alt=\"Open In Colab\"/></a>"
      ]
    },
    {
      "cell_type": "markdown",
      "metadata": {
        "id": "A0I94C8ImKbX",
        "colab_type": "text"
      },
      "source": [
        "# Import Libraries"
      ]
    },
    {
      "cell_type": "code",
      "metadata": {
        "id": "4nzhjETTKOrZ",
        "colab_type": "code",
        "colab": {}
      },
      "source": [
        "import tensorflow as tf\n",
        "from tensorflow import keras\n",
        "import numpy as np\n",
        "from sklearn.metrics import classification_report, confusion_matrix\n",
        "from tensorflow.keras.preprocessing.image import ImageDataGenerator, load_img, img_to_array\n",
        "from pj61403_utils_functions import *"
      ],
      "execution_count": 1,
      "outputs": []
    },
    {
      "cell_type": "markdown",
      "metadata": {
        "id": "x956Li8Pmbdc",
        "colab_type": "text"
      },
      "source": [
        "# Git Clone"
      ]
    },
    {
      "cell_type": "code",
      "metadata": {
        "id": "9hTxh6v3KaoK",
        "colab_type": "code",
        "colab": {
          "base_uri": "https://localhost:8080/",
          "height": 53
        },
        "outputId": "a163d2da-0cea-4910-90b5-3186af92e9e5"
      },
      "source": [
        "!git clone https://github.com/EvilPickle-PCSHSPT/PJ61403_DATA_split_50-25-25\n",
        "\n",
        "!git clone https://github.com/filmerxyz/TensorSkin"
      ],
      "execution_count": 2,
      "outputs": [
        {
          "output_type": "stream",
          "text": [
            "fatal: destination path 'PJ61403_DATA_split_50-25-25' already exists and is not an empty directory.\n",
            "fatal: destination path 'TensorSkin' already exists and is not an empty directory.\n"
          ],
          "name": "stdout"
        }
      ]
    },
    {
      "cell_type": "markdown",
      "metadata": {
        "id": "v-xq2CWJmfKI",
        "colab_type": "text"
      },
      "source": [
        "# WIDTH AND HEIGHT"
      ]
    },
    {
      "cell_type": "code",
      "metadata": {
        "id": "i_ID-9mnkT9W",
        "colab_type": "code",
        "colab": {}
      },
      "source": [
        "IMG_WIDTH = 224\n",
        "IMG_HEIGHT = 224"
      ],
      "execution_count": 4,
      "outputs": []
    },
    {
      "cell_type": "code",
      "metadata": {
        "id": "Gp6-QJz1kPNA",
        "colab_type": "code",
        "colab": {
          "base_uri": "https://localhost:8080/",
          "height": 35
        },
        "outputId": "56a2f3eb-4ab3-45f6-9fff-070346669c73"
      },
      "source": [
        "test_path = '/content/PJ61403_DATA_split_50-25-25/crop_split_classes_data/test'\n",
        "\n",
        "test_data = tf.keras.preprocessing.image.ImageDataGenerator(rescale=1./255)\n",
        "\n",
        "test_generator = test_data.flow_from_directory(directory=test_path,\n",
        "                                               target_size=(IMG_WIDTH, IMG_HEIGHT),\n",
        "                                               batch_size=1,\n",
        "                                               shuffle=False,\n",
        "                                               class_mode=None)\n",
        "\n",
        "test_labels = test_generator.classes"
      ],
      "execution_count": 5,
      "outputs": [
        {
          "output_type": "stream",
          "text": [
            "Found 63 images belonging to 4 classes.\n"
          ],
          "name": "stdout"
        }
      ]
    },
    {
      "cell_type": "markdown",
      "metadata": {
        "id": "8TwFQnc_mkXH",
        "colab_type": "text"
      },
      "source": [
        "# Ensemble"
      ]
    },
    {
      "cell_type": "code",
      "metadata": {
        "id": "9WfMppycM9x4",
        "colab_type": "code",
        "colab": {}
      },
      "source": [
        "def ArithmeticMean_ensemble(test_data, model_1, model_2, model_3):\n",
        "  model_1 = tf.keras.models.load_model(model_1)\n",
        "  model_2 = tf.keras.models.load_model(model_2)\n",
        "  model_3 = tf.keras.models.load_model(model_3)\n",
        "  ans_1 = model_1.predict(test_data)\n",
        "  ans_2 = model_2.predict(test_data)\n",
        "  ans_3 = model_3.predict(test_data)\n",
        "  all_answer_list = []\n",
        "  for i in range(len(ans_1)):\n",
        "    answer_list = []\n",
        "    for j in range(len(ans_1[i])):\n",
        "      mean_ans = (ans_1[i][j] + ans_2[i][j] + ans_3[i][j])/3\n",
        "      answer_list.append(mean_ans)\n",
        "    all_answer_list.append(answer_list)\n",
        "  return all_answer_list"
      ],
      "execution_count": 6,
      "outputs": []
    },
    {
      "cell_type": "markdown",
      "metadata": {
        "id": "qlD97iodmnzY",
        "colab_type": "text"
      },
      "source": [
        "# Evalate"
      ]
    },
    {
      "cell_type": "code",
      "metadata": {
        "id": "kGrQFT86YrLx",
        "colab_type": "code",
        "colab": {}
      },
      "source": [
        "ensemble_ans = ArithmeticMean_ensemble(test_generator, '/content/TensorSkin/model/TensorSkin_model_1.h5', '/content/TensorSkin/model/TensorSkin_model_2.h5', '/content/TensorSkin/model/TensorSkin_model_3.h5')"
      ],
      "execution_count": 7,
      "outputs": []
    },
    {
      "cell_type": "code",
      "metadata": {
        "id": "hAnZ32uIkpLD",
        "colab_type": "code",
        "colab": {}
      },
      "source": [
        "ensemble_ans_array = np.asarray(ensemble_ans)"
      ],
      "execution_count": 9,
      "outputs": []
    },
    {
      "cell_type": "markdown",
      "metadata": {
        "id": "UTYe_aTImrv1",
        "colab_type": "text"
      },
      "source": [
        "## Confusion Matrix"
      ]
    },
    {
      "cell_type": "code",
      "metadata": {
        "id": "lHmGAe93PPH-",
        "colab_type": "code",
        "colab": {}
      },
      "source": [
        "classes_names = ['ad', 'nm', 'ps', 'sk']"
      ],
      "execution_count": 11,
      "outputs": []
    },
    {
      "cell_type": "code",
      "metadata": {
        "id": "aE6LHO_mW-RD",
        "colab_type": "code",
        "colab": {}
      },
      "source": [
        "cm = confusion_matrix(test_labels, ensemble_ans_array.argmax(axis=1))"
      ],
      "execution_count": 12,
      "outputs": []
    },
    {
      "cell_type": "markdown",
      "metadata": {
        "id": "I6RQFOQBmyAN",
        "colab_type": "text"
      },
      "source": [
        "### Without Normalize"
      ]
    },
    {
      "cell_type": "code",
      "metadata": {
        "id": "IljDGRw_kfpP",
        "colab_type": "code",
        "colab": {
          "base_uri": "https://localhost:8080/",
          "height": 387
        },
        "outputId": "0e825cbd-d66d-44e4-99d1-9ac91fd67e45"
      },
      "source": [
        "plot_confusion_matrix(cm, classes_names, False)"
      ],
      "execution_count": 13,
      "outputs": [
        {
          "output_type": "stream",
          "text": [
            "Confusion matrix, without normalization\n",
            "[[16  1  0  0]\n",
            " [ 0 15  0  0]\n",
            " [ 0  0 16  0]\n",
            " [ 1  0  0 14]]\n"
          ],
          "name": "stdout"
        },
        {
          "output_type": "display_data",
          "data": {
            "image/png": "[encoded data removed]",
            "text/plain": [
              "<Figure size 432x288 with 2 Axes>"
            ]
          },
          "metadata": {
            "tags": [],
            "needs_background": "light"
          }
        }
      ]
    },
    {
      "cell_type": "markdown",
      "metadata": {
        "id": "ND56Z0t1m0me",
        "colab_type": "text"
      },
      "source": [
        "### With Normalize"
      ]
    },
    {
      "cell_type": "code",
      "metadata": {
        "id": "ERBmD4JZkf_5",
        "colab_type": "code",
        "colab": {
          "base_uri": "https://localhost:8080/",
          "height": 387
        },
        "outputId": "e5750a61-482e-43d6-c6ba-fbff0e44c5e6"
      },
      "source": [
        "plot_confusion_matrix(cm, classes_names, True)"
      ],
      "execution_count": 14,
      "outputs": [
        {
          "output_type": "stream",
          "text": [
            "Normalized confusion matrix\n",
            "[[0.94117647 0.05882353 0.         0.        ]\n",
            " [0.         1.         0.         0.        ]\n",
            " [0.         0.         1.         0.        ]\n",
            " [0.06666667 0.         0.         0.93333333]]\n"
          ],
          "name": "stdout"
        },
        {
          "output_type": "display_data",
          "data": {
            "image/png": "[encoded data removed]",
            "text/plain": [
              "<Figure size 432x288 with 2 Axes>"
            ]
          },
          "metadata": {
            "tags": [],
            "needs_background": "light"
          }
        }
      ]
    },
    {
      "cell_type": "markdown",
      "metadata": {
        "id": "DnO4jTZRm5Al",
        "colab_type": "text"
      },
      "source": [
        "## Classification Report"
      ]
    },
    {
      "cell_type": "code",
      "metadata": {
        "id": "RBCza2Rpkh52",
        "colab_type": "code",
        "colab": {
          "base_uri": "https://localhost:8080/",
          "height": 233
        },
        "outputId": "03785988-5618-46b4-8f9c-4b2385f9674f"
      },
      "source": [
        "y_pred = np.argmax(ensemble_ans_array, axis=1)\n",
        "print('Classification Report')\n",
        "print(classification_report(test_labels, y_pred, target_names=classes_names))"
      ],
      "execution_count": 15,
      "outputs": [
        {
          "output_type": "stream",
          "text": [
            "Classification Report\n",
            "              precision    recall  f1-score   support\n",
            "\n",
            "          ad       0.94      0.94      0.94        17\n",
            "          nm       0.94      1.00      0.97        15\n",
            "          ps       1.00      1.00      1.00        16\n",
            "          sk       1.00      0.93      0.97        15\n",
            "\n",
            "    accuracy                           0.97        63\n",
            "   macro avg       0.97      0.97      0.97        63\n",
            "weighted avg       0.97      0.97      0.97        63\n",
            "\n"
          ],
          "name": "stdout"
        }
      ]
    }
  ]
}
